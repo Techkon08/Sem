{
 "cells": [
  {
   "cell_type": "code",
   "execution_count": 1,
   "id": "8eeca7d1",
   "metadata": {},
   "outputs": [
    {
     "name": "stdout",
     "output_type": "stream",
     "text": [
      "Probability of getting 3 is  0.16666666666666666\n"
     ]
    }
   ],
   "source": [
    "# Probability of getting 3 when a die is rolled\n",
    "ns={1,2,3,4,5,6}\n",
    "na={3}\n",
    "pa=len(na)/len(ns)\n",
    "print(\"Probability of getting 3 is \",pa)"
   ]
  },
  {
   "cell_type": "code",
   "execution_count": 2,
   "id": "dd7d351e",
   "metadata": {},
   "outputs": [
    {
     "name": "stdout",
     "output_type": "stream",
     "text": [
      "Probability of atleast getting one head is  0.875\n"
     ]
    }
   ],
   "source": [
    "'''Calculate the probabillity of atleast getting one head when coin is tossed thrice'''\n",
    "\n",
    "ns={'HHH','THH','HTH','HHT','TTH','THT','HTT','TTT'}\n",
    "na={'HHH','THH','HTH','HHT','TTH','THT','HTT'}\n",
    "pa=len(na)/len(ns)\n",
    "print('Probability of atleast getting one head is ',pa)"
   ]
  },
  {
   "cell_type": "code",
   "execution_count": 3,
   "id": "cece827a",
   "metadata": {},
   "outputs": [
    {
     "name": "stdout",
     "output_type": "stream",
     "text": [
      "Probability of not getting blue jar is 0.7\n"
     ]
    }
   ],
   "source": [
    "'''Glass of jar contain 5 red,3 blue and 2 green jelly beans. If a jelly is chosen at random from jar, what is probability that it is not a blue'''\n",
    "ns=10\n",
    "na=7\n",
    "pa=na/ns\n",
    "print('Probability of not getting blue jar is',pa)"
   ]
  },
  {
   "cell_type": "code",
   "execution_count": 4,
   "id": "d24d9dcb",
   "metadata": {},
   "outputs": [
    {
     "name": "stdout",
     "output_type": "stream",
     "text": [
      "Probability that they will be alive after 20 years is 0.35\n"
     ]
    }
   ],
   "source": [
    "#These are independent events  so \n",
    "P=0.7*0.5\n",
    "print(\"Probability that they will be alive after 20 years is\",P)"
   ]
  },
  {
   "cell_type": "code",
   "execution_count": 7,
   "id": "d60a0f79",
   "metadata": {},
   "outputs": [],
   "source": [
    "def probability(number_of_events,samplespace):\n",
    "  return number_of_events/samplespace"
   ]
  },
  {
   "cell_type": "code",
   "execution_count": 8,
   "id": "05c64849",
   "metadata": {},
   "outputs": [
    {
     "name": "stdout",
     "output_type": "stream",
     "text": [
      "Probability of getting a 4 or 5 on the first toss and 1, 2 or 3 on second toss is 0.16666666666666666\n"
     ]
    }
   ],
   "source": [
    "pa=probability(2,6)\n",
    "pb=probability(3,6)\n",
    "P=pa*pb\n",
    "print(\"Probability of getting a 4 or 5 on the first toss and 1, 2 or 3 on second toss is\", P)"
   ]
  },
  {
   "cell_type": "code",
   "execution_count": 9,
   "id": "3105d953",
   "metadata": {},
   "outputs": [
    {
     "name": "stdout",
     "output_type": "stream",
     "text": [
      "The probability of obtaining white, black and green in the order is  0.041666666666666664\n"
     ]
    }
   ],
   "source": [
    "\n",
    "\n",
    "pa=probability(5,10)\n",
    "pb=probability(3,9)\n",
    "pc=probability(2,8)\n",
    "P=pa*pb*pc\n",
    "print('The probability of obtaining white, black and green in the order is ',P)\n",
    "\n"
   ]
  },
  {
   "cell_type": "code",
   "execution_count": 10,
   "id": "9b55f500",
   "metadata": {},
   "outputs": [
    {
     "name": "stdout",
     "output_type": "stream",
     "text": [
      "Probability fo drawing heart or club in a deck of 52 cards is 0.5\n"
     ]
    }
   ],
   "source": [
    "cards=52\n",
    "hearts=13\n",
    "clubs=13\n",
    "heart_or_club=probability(13,52)+probability(13,52)\n",
    "print('Probability fo drawing heart or club in a deck of 52 cards is',heart_or_club)"
   ]
  },
  {
   "cell_type": "code",
   "execution_count": 11,
   "id": "49828da3",
   "metadata": {},
   "outputs": [
    {
     "name": "stdout",
     "output_type": "stream",
     "text": [
      "Probability of drawing ace, king or queen cards from deck is  0.23076923076923078\n"
     ]
    }
   ],
   "source": [
    "\n",
    "\n",
    "cards=52\n",
    "ace=4\n",
    "king=4\n",
    "queen=4\n",
    "akq=probability(4,52)+probability(4,52)+probability(4,52)\n",
    "print(\"Probability of drawing ace, king or queen cards from deck is \",akq)\n",
    "\n"
   ]
  },
  {
   "cell_type": "code",
   "execution_count": 12,
   "id": "fa8a9a5e",
   "metadata": {},
   "outputs": [
    {
     "name": "stdout",
     "output_type": "stream",
     "text": [
      "0.3076923076923077\n"
     ]
    }
   ],
   "source": [
    "\n",
    "\n",
    "'''Probability of getting heart or ace '''\n",
    "heart=13\n",
    "ace=4\n",
    "ace_of_hearts=1\n",
    "ha=probability(13,52)+probability(ace,52)-probability(ace_of_hearts,cards) # Additive rule\n",
    "print(ha)\n",
    "\n"
   ]
  },
  {
   "cell_type": "code",
   "execution_count": 18,
   "id": "ed67a2ef",
   "metadata": {},
   "outputs": [
    {
     "name": "stdout",
     "output_type": "stream",
     "text": [
      "probability of not getting 5 is  0.8333333333333334\n"
     ]
    }
   ],
   "source": [
    "'''Probability of not getting 5 when a fair die is rolled'''\n",
    "ns=6 #n(s)= {1,2,3,4,5,6}\n",
    "na=1 #n(a)={5}\n",
    "pa=na/ns \n",
    "print('probability of not getting 5 is ', 1-pa)"
   ]
  },
  {
   "cell_type": "code",
   "execution_count": 19,
   "id": "9e424e65",
   "metadata": {},
   "outputs": [
    {
     "data": {
      "text/html": [
       "<div>\n",
       "<style scoped>\n",
       "    .dataframe tbody tr th:only-of-type {\n",
       "        vertical-align: middle;\n",
       "    }\n",
       "\n",
       "    .dataframe tbody tr th {\n",
       "        vertical-align: top;\n",
       "    }\n",
       "\n",
       "    .dataframe thead th {\n",
       "        text-align: right;\n",
       "    }\n",
       "</style>\n",
       "<table border=\"1\" class=\"dataframe\">\n",
       "  <thead>\n",
       "    <tr style=\"text-align: right;\">\n",
       "      <th></th>\n",
       "      <th>school</th>\n",
       "      <th>sex</th>\n",
       "      <th>age</th>\n",
       "      <th>address</th>\n",
       "      <th>famsize</th>\n",
       "      <th>Pstatus</th>\n",
       "      <th>Medu</th>\n",
       "      <th>Fedu</th>\n",
       "      <th>Mjob</th>\n",
       "      <th>Fjob</th>\n",
       "      <th>...</th>\n",
       "      <th>famrel</th>\n",
       "      <th>freetime</th>\n",
       "      <th>goout</th>\n",
       "      <th>Dalc</th>\n",
       "      <th>Walc</th>\n",
       "      <th>health</th>\n",
       "      <th>absences</th>\n",
       "      <th>G1</th>\n",
       "      <th>G2</th>\n",
       "      <th>G3</th>\n",
       "    </tr>\n",
       "  </thead>\n",
       "  <tbody>\n",
       "    <tr>\n",
       "      <th>0</th>\n",
       "      <td>GP</td>\n",
       "      <td>F</td>\n",
       "      <td>18</td>\n",
       "      <td>U</td>\n",
       "      <td>GT3</td>\n",
       "      <td>A</td>\n",
       "      <td>4</td>\n",
       "      <td>4</td>\n",
       "      <td>at_home</td>\n",
       "      <td>teacher</td>\n",
       "      <td>...</td>\n",
       "      <td>4</td>\n",
       "      <td>3</td>\n",
       "      <td>4</td>\n",
       "      <td>1</td>\n",
       "      <td>1</td>\n",
       "      <td>3</td>\n",
       "      <td>6</td>\n",
       "      <td>5</td>\n",
       "      <td>6</td>\n",
       "      <td>6</td>\n",
       "    </tr>\n",
       "    <tr>\n",
       "      <th>1</th>\n",
       "      <td>GP</td>\n",
       "      <td>F</td>\n",
       "      <td>17</td>\n",
       "      <td>U</td>\n",
       "      <td>GT3</td>\n",
       "      <td>T</td>\n",
       "      <td>1</td>\n",
       "      <td>1</td>\n",
       "      <td>at_home</td>\n",
       "      <td>other</td>\n",
       "      <td>...</td>\n",
       "      <td>5</td>\n",
       "      <td>3</td>\n",
       "      <td>3</td>\n",
       "      <td>1</td>\n",
       "      <td>1</td>\n",
       "      <td>3</td>\n",
       "      <td>4</td>\n",
       "      <td>5</td>\n",
       "      <td>5</td>\n",
       "      <td>6</td>\n",
       "    </tr>\n",
       "    <tr>\n",
       "      <th>2</th>\n",
       "      <td>GP</td>\n",
       "      <td>F</td>\n",
       "      <td>15</td>\n",
       "      <td>U</td>\n",
       "      <td>LE3</td>\n",
       "      <td>T</td>\n",
       "      <td>1</td>\n",
       "      <td>1</td>\n",
       "      <td>at_home</td>\n",
       "      <td>other</td>\n",
       "      <td>...</td>\n",
       "      <td>4</td>\n",
       "      <td>3</td>\n",
       "      <td>2</td>\n",
       "      <td>2</td>\n",
       "      <td>3</td>\n",
       "      <td>3</td>\n",
       "      <td>10</td>\n",
       "      <td>7</td>\n",
       "      <td>8</td>\n",
       "      <td>10</td>\n",
       "    </tr>\n",
       "  </tbody>\n",
       "</table>\n",
       "<p>3 rows × 33 columns</p>\n",
       "</div>"
      ],
      "text/plain": [
       "  school sex  age address famsize Pstatus  Medu  Fedu     Mjob     Fjob  ...  \\\n",
       "0     GP   F   18       U     GT3       A     4     4  at_home  teacher  ...   \n",
       "1     GP   F   17       U     GT3       T     1     1  at_home    other  ...   \n",
       "2     GP   F   15       U     LE3       T     1     1  at_home    other  ...   \n",
       "\n",
       "  famrel freetime  goout  Dalc  Walc health absences G1 G2  G3  \n",
       "0      4        3      4     1     1      3        6  5  6   6  \n",
       "1      5        3      3     1     1      3        4  5  5   6  \n",
       "2      4        3      2     2     3      3       10  7  8  10  \n",
       "\n",
       "[3 rows x 33 columns]"
      ]
     },
     "execution_count": 19,
     "metadata": {},
     "output_type": "execute_result"
    }
   ],
   "source": [
    "#Conditional probability\n",
    "''''''\n",
    "import pandas as pd\n",
    "import numpy as np\n",
    "df=pd.read_csv('C:/Users/Mahesh/student-mat.csv') #Student-mat.csv file \n",
    "df.head(3)"
   ]
  },
  {
   "cell_type": "code",
   "execution_count": 20,
   "id": "0dc5947c",
   "metadata": {},
   "outputs": [
    {
     "data": {
      "text/plain": [
       "395"
      ]
     },
     "execution_count": 20,
     "metadata": {},
     "output_type": "execute_result"
    }
   ],
   "source": [
    "\n",
    "\n",
    "len(df)\n",
    "\n"
   ]
  },
  {
   "cell_type": "code",
   "execution_count": 21,
   "id": "de42e102",
   "metadata": {},
   "outputs": [],
   "source": [
    "df['grade_A']=np.where(df['G3']*5 >= 80 , 1, 0)"
   ]
  },
  {
   "cell_type": "code",
   "execution_count": 24,
   "id": "514c60bc",
   "metadata": {},
   "outputs": [],
   "source": [
    "df['high_absences']=np.where(df['absences']>=10,1,0)"
   ]
  },
  {
   "cell_type": "code",
   "execution_count": 25,
   "id": "2fed8498",
   "metadata": {},
   "outputs": [],
   "source": [
    "df['count']=1"
   ]
  },
  {
   "cell_type": "code",
   "execution_count": 26,
   "id": "472b51cf",
   "metadata": {},
   "outputs": [
    {
     "data": {
      "text/html": [
       "<div>\n",
       "<style scoped>\n",
       "    .dataframe tbody tr th:only-of-type {\n",
       "        vertical-align: middle;\n",
       "    }\n",
       "\n",
       "    .dataframe tbody tr th {\n",
       "        vertical-align: top;\n",
       "    }\n",
       "\n",
       "    .dataframe thead th {\n",
       "        text-align: right;\n",
       "    }\n",
       "</style>\n",
       "<table border=\"1\" class=\"dataframe\">\n",
       "  <thead>\n",
       "    <tr style=\"text-align: right;\">\n",
       "      <th></th>\n",
       "      <th>grade_A</th>\n",
       "      <th>high_absences</th>\n",
       "      <th>count</th>\n",
       "    </tr>\n",
       "  </thead>\n",
       "  <tbody>\n",
       "    <tr>\n",
       "      <th>0</th>\n",
       "      <td>0</td>\n",
       "      <td>0</td>\n",
       "      <td>1</td>\n",
       "    </tr>\n",
       "    <tr>\n",
       "      <th>1</th>\n",
       "      <td>0</td>\n",
       "      <td>0</td>\n",
       "      <td>1</td>\n",
       "    </tr>\n",
       "    <tr>\n",
       "      <th>2</th>\n",
       "      <td>0</td>\n",
       "      <td>1</td>\n",
       "      <td>1</td>\n",
       "    </tr>\n",
       "    <tr>\n",
       "      <th>3</th>\n",
       "      <td>0</td>\n",
       "      <td>0</td>\n",
       "      <td>1</td>\n",
       "    </tr>\n",
       "    <tr>\n",
       "      <th>4</th>\n",
       "      <td>0</td>\n",
       "      <td>0</td>\n",
       "      <td>1</td>\n",
       "    </tr>\n",
       "  </tbody>\n",
       "</table>\n",
       "</div>"
      ],
      "text/plain": [
       "   grade_A  high_absences  count\n",
       "0        0              0      1\n",
       "1        0              0      1\n",
       "2        0              1      1\n",
       "3        0              0      1\n",
       "4        0              0      1"
      ]
     },
     "execution_count": 26,
     "metadata": {},
     "output_type": "execute_result"
    }
   ],
   "source": [
    "df=df[['grade_A','high_absences','count']]\n",
    "df.head()"
   ]
  },
  {
   "cell_type": "code",
   "execution_count": 27,
   "id": "984ecee6",
   "metadata": {},
   "outputs": [],
   "source": [
    "final=pd.pivot_table(df,values='count',index=['grade_A'],columns=['high_absences'],\n",
    "                     aggfunc=np.size,fill_value=0)"
   ]
  },
  {
   "cell_type": "code",
   "execution_count": 28,
   "id": "95dc4b7b",
   "metadata": {},
   "outputs": [
    {
     "name": "stdout",
     "output_type": "stream",
     "text": [
      "high_absences    0   1\n",
      "grade_A               \n",
      "0              277  78\n",
      "1               35   5\n"
     ]
    }
   ],
   "source": [
    "print(final)"
   ]
  },
  {
   "cell_type": "code",
   "execution_count": 29,
   "id": "0c5d2d73",
   "metadata": {},
   "outputs": [
    {
     "name": "stdout",
     "output_type": "stream",
     "text": [
      "0.10126582278481013\n"
     ]
    }
   ],
   "source": [
    "#  probability of a grade of 80% or greater\n",
    "\n",
    "Pa = (35 + 5) / (35 + 5 + 277 + 78)\n",
    "print(Pa)"
   ]
  },
  {
   "cell_type": "code",
   "execution_count": 30,
   "id": "f47cb743",
   "metadata": {},
   "outputs": [
    {
     "name": "stdout",
     "output_type": "stream",
     "text": [
      "0.21012658227848102\n"
     ]
    }
   ],
   "source": [
    "Pb = (78 + 5) / (35 + 5 + 277 + 78)\n",
    "print(Pb)"
   ]
  },
  {
   "cell_type": "code",
   "execution_count": 31,
   "id": "0ca7ce53",
   "metadata": {},
   "outputs": [
    {
     "name": "stdout",
     "output_type": "stream",
     "text": [
      "0.012658227848101266\n"
     ]
    }
   ],
   "source": [
    "PaAndb = 5 / (35 + 5 + 277 + 78)\n",
    "print(PaAndb)"
   ]
  },
  {
   "cell_type": "code",
   "execution_count": 32,
   "id": "40f45dce",
   "metadata": {},
   "outputs": [
    {
     "name": "stdout",
     "output_type": "stream",
     "text": [
      "0.060240963855421686\n"
     ]
    }
   ],
   "source": [
    "print(PaAndb / Pb)"
   ]
  },
  {
   "cell_type": "code",
   "execution_count": null,
   "id": "b52ace07",
   "metadata": {},
   "outputs": [],
   "source": []
  }
 ],
 "metadata": {
  "kernelspec": {
   "display_name": "Python 3",
   "language": "python",
   "name": "python3"
  },
  "language_info": {
   "codemirror_mode": {
    "name": "ipython",
    "version": 3
   },
   "file_extension": ".py",
   "mimetype": "text/x-python",
   "name": "python",
   "nbconvert_exporter": "python",
   "pygments_lexer": "ipython3",
   "version": "3.8.8"
  }
 },
 "nbformat": 4,
 "nbformat_minor": 5
}
